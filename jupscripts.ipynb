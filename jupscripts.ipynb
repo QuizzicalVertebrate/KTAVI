{
 "cells": [
  {
   "cell_type": "code",
   "execution_count": 67,
   "metadata": {},
   "outputs": [
    {
     "name": "stdout",
     "output_type": "stream",
     "text": [
      "contents\n",
      "order\n",
      "enComplete\n",
      "heComplete\n",
      "enDesc\n",
      "heDesc\n",
      "enShortDesc\n",
      "heShortDesc\n",
      "heCategory\n",
      "category\n"
     ]
    }
   ],
   "source": [
    "\n",
    "import requests \n",
    "import json \n",
    "import pandas as pd \n",
    "\n",
    "\n",
    "r = requests.get(\"http://www.sefaria.org/api/index/\")\n",
    "data = json.loads(r.text)\n",
    "# object = (data[3]['contents'][0]['contents'][3])\n",
    "# print(type(object))\n",
    "# lst = []\n",
    "# for i in data[0]['contents'][0]['contents']:\n",
    "\n",
    "#     # print(i)\n",
    "#     lst.append(i)\n",
    "\n",
    "# pd.DataFrame(lst).head()\n",
    "\n",
    "for category in data[0]:\n",
    " print(category)\n",
    "\n",
    "\n",
    "# pd.DataFrame(lst).to_csv('Rambam_index.csv')\n",
    "    \n",
    "\n",
    "#iterating through the outermost keys in the object by just doing for i in object print i gets you the outermost keys\n",
    "# .\n",
    "\n"
   ]
  },
  {
   "cell_type": "code",
   "execution_count": 68,
   "metadata": {},
   "outputs": [
    {
     "ename": "ValueError",
     "evalue": "DataFrame constructor not properly called!",
     "output_type": "error",
     "traceback": [
      "\u001b[1;31m---------------------------------------------------------------------------\u001b[0m",
      "\u001b[1;31mValueError\u001b[0m                                Traceback (most recent call last)",
      "\u001b[1;32mc:\\Coding\\Hatchalot_Kashot\\jupscripts.ipynb Cell 2'\u001b[0m in \u001b[0;36m<cell line: 6>\u001b[1;34m()\u001b[0m\n\u001b[0;32m      <a href='vscode-notebook-cell:/c%3A/Coding/Hatchalot_Kashot/jupscripts.ipynb#ch0000001?line=0'>1</a>\u001b[0m \u001b[39m# df = pd.DataFrame.from_dict(object).to_csv('take2.csv')\u001b[39;00m\n\u001b[0;32m      <a href='vscode-notebook-cell:/c%3A/Coding/Hatchalot_Kashot/jupscripts.ipynb#ch0000001?line=3'>4</a>\u001b[0m \u001b[39mfrom\u001b[39;00m \u001b[39moperator\u001b[39;00m \u001b[39mimport\u001b[39;00m index\n\u001b[1;32m----> <a href='vscode-notebook-cell:/c%3A/Coding/Hatchalot_Kashot/jupscripts.ipynb#ch0000001?line=5'>6</a>\u001b[0m df\u001b[39m=\u001b[39m pd\u001b[39m.\u001b[39;49mDataFrame\u001b[39m.\u001b[39;49mfrom_dict(\u001b[39mobject\u001b[39;49m)\n\u001b[0;32m      <a href='vscode-notebook-cell:/c%3A/Coding/Hatchalot_Kashot/jupscripts.ipynb#ch0000001?line=8'>9</a>\u001b[0m display(df)\n",
      "File \u001b[1;32mc:\\Users\\Aviezer\\.virtualenvs\\Hatchalot_Kashot-sb1BF_zf\\lib\\site-packages\\pandas\\core\\frame.py:1677\u001b[0m, in \u001b[0;36mDataFrame.from_dict\u001b[1;34m(cls, data, orient, dtype, columns)\u001b[0m\n\u001b[0;32m   1674\u001b[0m     \u001b[39mraise\u001b[39;00m \u001b[39mValueError\u001b[39;00m(\u001b[39m\"\u001b[39m\u001b[39monly recognize index or columns for orient\u001b[39m\u001b[39m\"\u001b[39m)\n\u001b[0;32m   1676\u001b[0m \u001b[39mif\u001b[39;00m orient \u001b[39m!=\u001b[39m \u001b[39m\"\u001b[39m\u001b[39mtight\u001b[39m\u001b[39m\"\u001b[39m:\n\u001b[1;32m-> 1677\u001b[0m     \u001b[39mreturn\u001b[39;00m \u001b[39mcls\u001b[39;49m(data, index\u001b[39m=\u001b[39;49mindex, columns\u001b[39m=\u001b[39;49mcolumns, dtype\u001b[39m=\u001b[39;49mdtype)\n\u001b[0;32m   1678\u001b[0m \u001b[39melse\u001b[39;00m:\n\u001b[0;32m   1679\u001b[0m     realdata \u001b[39m=\u001b[39m data[\u001b[39m\"\u001b[39m\u001b[39mdata\u001b[39m\u001b[39m\"\u001b[39m]\n",
      "File \u001b[1;32mc:\\Users\\Aviezer\\.virtualenvs\\Hatchalot_Kashot-sb1BF_zf\\lib\\site-packages\\pandas\\core\\frame.py:756\u001b[0m, in \u001b[0;36mDataFrame.__init__\u001b[1;34m(self, data, index, columns, dtype, copy)\u001b[0m\n\u001b[0;32m    753\u001b[0m \u001b[39m# For data is scalar\u001b[39;00m\n\u001b[0;32m    754\u001b[0m \u001b[39melse\u001b[39;00m:\n\u001b[0;32m    755\u001b[0m     \u001b[39mif\u001b[39;00m index \u001b[39mis\u001b[39;00m \u001b[39mNone\u001b[39;00m \u001b[39mor\u001b[39;00m columns \u001b[39mis\u001b[39;00m \u001b[39mNone\u001b[39;00m:\n\u001b[1;32m--> 756\u001b[0m         \u001b[39mraise\u001b[39;00m \u001b[39mValueError\u001b[39;00m(\u001b[39m\"\u001b[39m\u001b[39mDataFrame constructor not properly called!\u001b[39m\u001b[39m\"\u001b[39m)\n\u001b[0;32m    758\u001b[0m     \u001b[39m# Argument 1 to \"ensure_index\" has incompatible type \"Collection[Any]\";\u001b[39;00m\n\u001b[0;32m    759\u001b[0m     \u001b[39m# expected \"Union[Union[Union[ExtensionArray, ndarray],\u001b[39;00m\n\u001b[0;32m    760\u001b[0m     \u001b[39m# Index, Series], Sequence[Any]]\"\u001b[39;00m\n\u001b[0;32m    761\u001b[0m     index \u001b[39m=\u001b[39m ensure_index(index)  \u001b[39m# type: ignore[arg-type]\u001b[39;00m\n",
      "\u001b[1;31mValueError\u001b[0m: DataFrame constructor not properly called!"
     ]
    }
   ],
   "source": [
    "# df = pd.DataFrame.from_dict(object).to_csv('take2.csv')\n",
    "\n",
    "\n",
    "from operator import index\n",
    "\n",
    "df= pd.DataFrame.from_dict(object)\n",
    "\n",
    "\n",
    "display(df)"
   ]
  }
 ],
 "metadata": {
  "kernelspec": {
   "display_name": "Python 3.10.4 ('Hatchalot_Kashot-sb1BF_zf')",
   "language": "python",
   "name": "python3"
  },
  "language_info": {
   "codemirror_mode": {
    "name": "ipython",
    "version": 3
   },
   "file_extension": ".py",
   "mimetype": "text/x-python",
   "name": "python",
   "nbconvert_exporter": "python",
   "pygments_lexer": "ipython3",
   "version": "3.10.4"
  },
  "orig_nbformat": 4,
  "vscode": {
   "interpreter": {
    "hash": "ccfb3ba509a300a0cb78e784bd97edc693466633d01384742d718a393e0713c8"
   }
  }
 },
 "nbformat": 4,
 "nbformat_minor": 2
}
